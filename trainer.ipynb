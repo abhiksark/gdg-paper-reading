{
  "nbformat": 4,
  "nbformat_minor": 0,
  "metadata": {
    "colab": {
      "provenance": [],
      "authorship_tag": "ABX9TyMUqN8e5rrBhCujGlef/oot",
      "include_colab_link": true
    },
    "kernelspec": {
      "name": "python3",
      "display_name": "Python 3"
    },
    "language_info": {
      "name": "python"
    },
    "gpuClass": "standard",
    "accelerator": "GPU"
  },
  "cells": [
    {
      "cell_type": "markdown",
      "metadata": {
        "id": "view-in-github",
        "colab_type": "text"
      },
      "source": [
        "<a href=\"https://colab.research.google.com/github/abhiksark/gdg-paper-reading/blob/main/trainer.ipynb\" target=\"_parent\"><img src=\"https://colab.research.google.com/assets/colab-badge.svg\" alt=\"Open In Colab\"/></a>"
      ]
    },
    {
      "cell_type": "code",
      "execution_count": 8,
      "metadata": {
        "colab": {
          "base_uri": "https://localhost:8080/"
        },
        "id": "rJYerDU2x95R",
        "outputId": "aa43be57-1e79-4112-92ca-c8e9d669f374"
      },
      "outputs": [
        {
          "output_type": "stream",
          "name": "stdout",
          "text": [
            "--2023-03-18 11:52:45--  https://s3.amazonaws.com/fast-ai-imageclas/imagenette2-320.tgz\n",
            "Resolving s3.amazonaws.com (s3.amazonaws.com)... 52.217.111.126, 52.216.214.0, 3.5.17.148, ...\n",
            "Connecting to s3.amazonaws.com (s3.amazonaws.com)|52.217.111.126|:443... connected.\n",
            "HTTP request sent, awaiting response... 200 OK\n",
            "Length: 341663724 (326M) [application/x-tar]\n",
            "Saving to: ‘imagenette2-320.tgz’\n",
            "\n",
            "imagenette2-320.tgz 100%[===================>] 325.83M  98.5MB/s    in 3.4s    \n",
            "\n",
            "2023-03-18 11:52:48 (96.0 MB/s) - ‘imagenette2-320.tgz’ saved [341663724/341663724]\n",
            "\n"
          ]
        }
      ],
      "source": [
        "!wget https://s3.amazonaws.com/fast-ai-imageclas/imagenette2-320.tgz\n",
        "!tar xf imagenette2-320.tgz"
      ]
    },
    {
      "cell_type": "code",
      "source": [
        "!git clone https://github.com/abhiksark/gdg-paper-reading.git"
      ],
      "metadata": {
        "colab": {
          "base_uri": "https://localhost:8080/"
        },
        "id": "reqB3es0g7zb",
        "outputId": "0349b8e9-2aa7-404a-d2cb-a42329e84dc7"
      },
      "execution_count": 2,
      "outputs": [
        {
          "output_type": "stream",
          "name": "stdout",
          "text": [
            "Cloning into 'gdg-paper-reading'...\n",
            "remote: Enumerating objects: 45, done.\u001b[K\n",
            "remote: Counting objects: 100% (45/45), done.\u001b[K\n",
            "remote: Compressing objects: 100% (35/35), done.\u001b[K\n",
            "remote: Total 45 (delta 14), reused 28 (delta 7), pack-reused 0\u001b[K\n",
            "Unpacking objects: 100% (45/45), 11.17 KiB | 336.00 KiB/s, done.\n"
          ]
        }
      ]
    },
    {
      "cell_type": "code",
      "source": [
        "%cd gdg-paper-reading"
      ],
      "metadata": {
        "colab": {
          "base_uri": "https://localhost:8080/"
        },
        "id": "Q3YWgl5gixE8",
        "outputId": "354ea210-ce2b-4dd5-abc9-df71ca045e12"
      },
      "execution_count": 4,
      "outputs": [
        {
          "output_type": "stream",
          "name": "stdout",
          "text": [
            "/content/gdg-paper-reading\n"
          ]
        }
      ]
    },
    {
      "cell_type": "code",
      "source": [
        "mv week-1\t week_1"
      ],
      "metadata": {
        "id": "dOC57WNXiVV4"
      },
      "execution_count": 5,
      "outputs": []
    },
    {
      "cell_type": "code",
      "source": [],
      "metadata": {
        "id": "uiLZclwOiCoe"
      },
      "execution_count": 5,
      "outputs": []
    },
    {
      "cell_type": "code",
      "source": [],
      "metadata": {
        "id": "psME_4BxiJiH"
      },
      "execution_count": 5,
      "outputs": []
    },
    {
      "cell_type": "code",
      "source": [
        "from week_1.vgg13 import VGG13\n",
        "from week_1.vgg13 import VGG13\n",
        "from week_1.vgg13 import VGG13"
      ],
      "metadata": {
        "id": "L3fzAyYaiFku"
      },
      "execution_count": 6,
      "outputs": []
    },
    {
      "cell_type": "code",
      "source": [
        "import numpy as np\n",
        "\n",
        "def find_lr(model, train_loader, criterion, device, optimizer, init_lr=1e-8, final_lr=10, beta=0.98):\n",
        "    model.train()\n",
        "    num_batches = len(train_loader)\n",
        "    mult = (final_lr / init_lr) ** (1 / num_batches)\n",
        "    lr = init_lr\n",
        "    optimizer.param_groups[0]['lr'] = lr\n",
        "\n",
        "    avg_loss = 0.0\n",
        "    best_loss = 0.0\n",
        "    batch_num = 0\n",
        "    losses = []\n",
        "    log_lrs = []\n",
        "\n",
        "    for inputs, labels in tqdm(train_loader, desc=\"Finding Learning Rate\"):\n",
        "        batch_num += 1\n",
        "        inputs, labels = inputs.to(device), labels.to(device)\n",
        "        optimizer.zero_grad()\n",
        "\n",
        "        outputs = model(inputs)\n",
        "        loss = criterion(outputs, labels)\n",
        "        loss.backward()\n",
        "        optimizer.step()\n",
        "\n",
        "        # Compute the smoothed loss\n",
        "        avg_loss = beta * avg_loss + (1 - beta) * loss.item()\n",
        "        smoothed_loss = avg_loss / (1 - beta ** batch_num)\n",
        "\n",
        "        # Update the learning rate\n",
        "        lr *= mult\n",
        "        optimizer.param_groups[0]['lr'] = lr\n",
        "\n",
        "        # Record the loss and learning rate\n",
        "        losses.append(smoothed_loss)\n",
        "        log_lrs.append(np.log10(lr))\n",
        "\n",
        "        if batch_num > 1 and smoothed_loss > 4 * best_loss:\n",
        "            break\n",
        "\n",
        "        if smoothed_loss < best_loss or batch_num == 1:\n",
        "            best_loss = smoothed_loss\n",
        "\n",
        "    return log_lrs, losses\n",
        "\n",
        "# Run the learning rate finder\n",
        "log_lrs, losses = find_lr(model, train_loader, criterion, device, optimizer)\n",
        "\n",
        "# Plot the learning rate vs. loss\n",
        "plt.figure()\n",
        "plt.plot(log_lrs, losses)\n",
        "plt.xlabel(\"Log10 Learning Rate\")\n",
        "plt.ylabel(\"Smoothed Loss\")\n",
        "plt.title(\"Learning Rate vs. Loss\")\n",
        "plt.show()\n"
      ],
      "metadata": {
        "id": "DVz8n9a4GEHr"
      },
      "execution_count": 6,
      "outputs": []
    },
    {
      "cell_type": "code",
      "source": [
        "import torch\n",
        "import torchvision\n",
        "import torch.nn as nn\n",
        "import torch.optim as optim\n",
        "from torchvision import transforms\n",
        "from torchvision.datasets import ImageFolder\n",
        "from torch.utils.data import DataLoader\n",
        "import matplotlib.pyplot as plt\n",
        "from tqdm import tqdm\n",
        "\n",
        "device = torch.device(\"cuda:0\" if torch.cuda.is_available() else \"cpu\")\n",
        "\n",
        "# Define data transforms for training and validation datasets\n",
        "train_transform = transforms.Compose([\n",
        "    transforms.RandomResizedCrop(224),\n",
        "    transforms.RandomHorizontalFlip(),\n",
        "    transforms.ToTensor(),\n",
        "    transforms.Normalize(mean=[0.485, 0.456, 0.406], std=[0.229, 0.224, 0.225])\n",
        "])\n",
        "\n",
        "val_transform = transforms.Compose([\n",
        "    transforms.Resize(256),\n",
        "    transforms.CenterCrop(224),\n",
        "    transforms.ToTensor(),\n",
        "    transforms.Normalize(mean=[0.485, 0.456, 0.406], std=[0.229, 0.224, 0.225])\n",
        "])\n",
        "\n",
        "# Load the data using a DataLoader\n",
        "train_set = ImageFolder('./imagenette2-320/train', transform=train_transform)\n",
        "val_set = ImageFolder('./imagenette2-320/val', transform=val_transform)\n",
        "\n",
        "train_loader = DataLoader(train_set, batch_size=32, shuffle=True, num_workers=4)\n",
        "val_loader = DataLoader(val_set, batch_size=32, shuffle=False, num_workers=4)\n",
        "\n",
        "\n",
        "# Define the model and move to device\n",
        "model = VGG13(num_classes=10)\n",
        "model = model.to(device)\n",
        "\n",
        "# Define loss function and optimizer\n",
        "criterion = nn.CrossEntropyLoss()\n",
        "optimizer = optim.Adam(model.parameters(), lr=0.01)\n",
        "\n",
        "# Define cyclic learning rate schedule\n",
        "max_lr = 0.01\n",
        "base_lr = 0.001\n",
        "step_size = len(train_loader) * 2\n",
        "# clr = optim.lr_scheduler.CyclicLR(optimizer, base_lr=base_lr, max_lr=max_lr, step_size_up=step_size)\n",
        "\n",
        "# Train the model\n",
        "def train(model, dataloader, optimizer, criterion, device, scheduler=None):\n",
        "    model.train()\n",
        "    running_loss = 0.0\n",
        "    correct = 0\n",
        "    total = 0\n",
        "\n",
        "    for inputs, labels in tqdm(dataloader, desc=\"Training\"):\n",
        "        inputs, labels = inputs.to(device), labels.to(device)\n",
        "        optimizer.zero_grad()\n",
        "\n",
        "        outputs = model(inputs)\n",
        "        loss = criterion(outputs, labels)\n",
        "        loss.backward()\n",
        "        optimizer.step()\n",
        "\n",
        "        running_loss += loss.item()\n",
        "        _, predicted = torch.max(outputs.data, 1)\n",
        "        total += labels.size(0)\n",
        "        correct += (predicted == labels).sum().item()\n",
        "\n",
        "        if scheduler:\n",
        "            scheduler.step()\n",
        "\n",
        "    return running_loss / len(dataloader), correct / total\n",
        "\n",
        "\n"
      ],
      "metadata": {
        "id": "vjLTYv-9yBFj"
      },
      "execution_count": 14,
      "outputs": []
    },
    {
      "cell_type": "code",
      "source": [],
      "metadata": {
        "id": "inXy1JnNU7zL"
      },
      "execution_count": 14,
      "outputs": []
    },
    {
      "cell_type": "code",
      "source": [
        "def validate(model, dataloader, criterion, device):\n",
        "    model.eval()\n",
        "    running_loss = 0.0\n",
        "    correct = 0\n",
        "    total = 0\n",
        "\n",
        "    with torch.no_grad():\n",
        "        for inputs, labels in tqdm(dataloader, desc=\"Validation\"):\n",
        "            inputs, labels = inputs.to(device), labels.to(device)\n",
        "\n",
        "            outputs = model(inputs)\n",
        "            loss = criterion(outputs, labels)\n",
        "\n",
        "            running_loss += loss.item()\n",
        "            _, predicted = torch.max(outputs.data, 1)\n",
        "            total += labels.size(0)\n",
        "            correct += (predicted == labels).sum().item()\n",
        "\n",
        "    return running_loss / len(dataloader), correct / total"
      ],
      "metadata": {
        "id": "HsfkbbjLU_Rk"
      },
      "execution_count": 15,
      "outputs": []
    },
    {
      "cell_type": "code",
      "source": [
        "\n",
        "\n",
        "# Main training and validation loop\n",
        "num_epochs = 20\n",
        "train_loss_history = []\n",
        "train_acc_history = []\n",
        "val_loss_history = []\n",
        "val_acc_history = []\n",
        "\n",
        "for epoch in range(num_epochs):\n",
        "    train_loss, train_acc = train(model, train_loader, optimizer, criterion, device)\n",
        "    val_loss, val_acc = validate(model, val_loader, criterion, device)\n",
        "\n",
        "    train_loss_history.append(train_loss)\n",
        "    train_acc_history.append(train_acc)\n",
        "    val_loss_history.append(val_loss)\n",
        "    val_acc_history.append(val_acc)\n",
        "\n",
        "    print(f'Epoch {epoch + 1}, Train Loss: {train_loss:.4f}, Train Acc: {train_acc:.4f}, Val Loss: {val_loss:.4f}, Val Acc: {val_acc:.4f}')\n",
        "\n",
        "# Plotting the training and validation loss\n",
        "plt.figure()\n",
        "plt.plot(train_loss_history, label=\"Train Loss\")\n",
        "plt.plot(val_loss_history, label=\"Validation Loss\")\n",
        "plt.xlabel(\"Epoch\")\n",
        "plt.ylabel(\"Loss\")\n",
        "plt.title(\"Loss history\")\n",
        "plt.legend()\n",
        "plt.show()\n",
        "\n",
        "# Plotting the training and validation accuracy\n",
        "plt.figure()\n",
        "plt.plot(train_acc_history, label=\"Train Accuracy\")\n",
        "plt.plot(val_acc_history, label=\"Validation Accuracy\")\n",
        "plt.xlabel(\"Epoch\")\n",
        "plt.ylabel(\"Accuracy\")\n",
        "plt.title(\"Accuracy history\")\n",
        "plt.legend()\n",
        "plt.show()"
      ],
      "metadata": {
        "colab": {
          "base_uri": "https://localhost:8080/",
          "height": 1000
        },
        "id": "MdgNHAgeyJF9",
        "outputId": "81a9b751-8aed-4ced-d274-8ef4a352fa98"
      },
      "execution_count": 26,
      "outputs": [
        {
          "output_type": "stream",
          "name": "stderr",
          "text": [
            "Training: 100%|██████████| 296/296 [01:54<00:00,  2.58it/s]\n",
            "Validation: 100%|██████████| 123/123 [00:22<00:00,  5.56it/s]\n"
          ]
        },
        {
          "output_type": "stream",
          "name": "stdout",
          "text": [
            "Epoch 1, Train Loss: 1.2484, Train Acc: 0.5968, Val Loss: 1.0027, Val Acc: 0.6698\n"
          ]
        },
        {
          "output_type": "stream",
          "name": "stderr",
          "text": [
            "Training: 100%|██████████| 296/296 [01:57<00:00,  2.51it/s]\n",
            "Validation: 100%|██████████| 123/123 [00:23<00:00,  5.28it/s]\n"
          ]
        },
        {
          "output_type": "stream",
          "name": "stdout",
          "text": [
            "Epoch 2, Train Loss: 1.2323, Train Acc: 0.6046, Val Loss: 0.9261, Val Acc: 0.6986\n"
          ]
        },
        {
          "output_type": "stream",
          "name": "stderr",
          "text": [
            "Training: 100%|██████████| 296/296 [01:58<00:00,  2.50it/s]\n",
            "Validation: 100%|██████████| 123/123 [00:23<00:00,  5.22it/s]\n"
          ]
        },
        {
          "output_type": "stream",
          "name": "stdout",
          "text": [
            "Epoch 3, Train Loss: 1.1803, Train Acc: 0.6173, Val Loss: 0.8675, Val Acc: 0.7208\n"
          ]
        },
        {
          "output_type": "stream",
          "name": "stderr",
          "text": [
            "Training: 100%|██████████| 296/296 [01:58<00:00,  2.50it/s]\n",
            "Validation: 100%|██████████| 123/123 [00:24<00:00,  5.00it/s]\n"
          ]
        },
        {
          "output_type": "stream",
          "name": "stdout",
          "text": [
            "Epoch 4, Train Loss: 1.1622, Train Acc: 0.6252, Val Loss: 0.9091, Val Acc: 0.7039\n"
          ]
        },
        {
          "output_type": "stream",
          "name": "stderr",
          "text": [
            "Training: 100%|██████████| 296/296 [01:58<00:00,  2.49it/s]\n",
            "Validation: 100%|██████████| 123/123 [00:24<00:00,  5.04it/s]\n"
          ]
        },
        {
          "output_type": "stream",
          "name": "stdout",
          "text": [
            "Epoch 5, Train Loss: 1.1512, Train Acc: 0.6314, Val Loss: 0.8573, Val Acc: 0.7192\n"
          ]
        },
        {
          "output_type": "stream",
          "name": "stderr",
          "text": [
            "Training: 100%|██████████| 296/296 [01:58<00:00,  2.50it/s]\n",
            "Validation: 100%|██████████| 123/123 [00:24<00:00,  5.04it/s]\n"
          ]
        },
        {
          "output_type": "stream",
          "name": "stdout",
          "text": [
            "Epoch 6, Train Loss: 1.1249, Train Acc: 0.6414, Val Loss: 0.9511, Val Acc: 0.6856\n"
          ]
        },
        {
          "output_type": "stream",
          "name": "stderr",
          "text": [
            "Training: 100%|██████████| 296/296 [01:58<00:00,  2.50it/s]\n",
            "Validation: 100%|██████████| 123/123 [00:23<00:00,  5.25it/s]\n"
          ]
        },
        {
          "output_type": "stream",
          "name": "stdout",
          "text": [
            "Epoch 7, Train Loss: 1.1057, Train Acc: 0.6425, Val Loss: 0.8524, Val Acc: 0.7241\n"
          ]
        },
        {
          "output_type": "stream",
          "name": "stderr",
          "text": [
            "Training: 100%|██████████| 296/296 [01:59<00:00,  2.49it/s]\n",
            "Validation: 100%|██████████| 123/123 [00:23<00:00,  5.30it/s]\n"
          ]
        },
        {
          "output_type": "stream",
          "name": "stdout",
          "text": [
            "Epoch 8, Train Loss: 1.0922, Train Acc: 0.6508, Val Loss: 0.7419, Val Acc: 0.7580\n"
          ]
        },
        {
          "output_type": "stream",
          "name": "stderr",
          "text": [
            "Training: 100%|██████████| 296/296 [01:59<00:00,  2.49it/s]\n",
            "Validation: 100%|██████████| 123/123 [00:23<00:00,  5.15it/s]\n"
          ]
        },
        {
          "output_type": "stream",
          "name": "stdout",
          "text": [
            "Epoch 9, Train Loss: 1.0589, Train Acc: 0.6612, Val Loss: 0.7767, Val Acc: 0.7468\n"
          ]
        },
        {
          "output_type": "stream",
          "name": "stderr",
          "text": [
            "Training: 100%|██████████| 296/296 [01:58<00:00,  2.49it/s]\n",
            "Validation: 100%|██████████| 123/123 [00:24<00:00,  5.01it/s]\n"
          ]
        },
        {
          "output_type": "stream",
          "name": "stdout",
          "text": [
            "Epoch 10, Train Loss: 1.0470, Train Acc: 0.6628, Val Loss: 0.7831, Val Acc: 0.7406\n"
          ]
        },
        {
          "output_type": "stream",
          "name": "stderr",
          "text": [
            "Training: 100%|██████████| 296/296 [01:58<00:00,  2.50it/s]\n",
            "Validation: 100%|██████████| 123/123 [00:24<00:00,  5.06it/s]\n"
          ]
        },
        {
          "output_type": "stream",
          "name": "stdout",
          "text": [
            "Epoch 11, Train Loss: 1.0147, Train Acc: 0.6786, Val Loss: 0.7198, Val Acc: 0.7623\n"
          ]
        },
        {
          "output_type": "stream",
          "name": "stderr",
          "text": [
            "Training: 100%|██████████| 296/296 [01:58<00:00,  2.50it/s]\n",
            "Validation: 100%|██████████| 123/123 [00:24<00:00,  4.98it/s]\n"
          ]
        },
        {
          "output_type": "stream",
          "name": "stdout",
          "text": [
            "Epoch 12, Train Loss: 0.9845, Train Acc: 0.6843, Val Loss: 0.7625, Val Acc: 0.7475\n"
          ]
        },
        {
          "output_type": "stream",
          "name": "stderr",
          "text": [
            "Training: 100%|██████████| 296/296 [01:58<00:00,  2.50it/s]\n",
            "Validation: 100%|██████████| 123/123 [00:23<00:00,  5.24it/s]\n"
          ]
        },
        {
          "output_type": "stream",
          "name": "stdout",
          "text": [
            "Epoch 13, Train Loss: 0.9720, Train Acc: 0.6892, Val Loss: 0.7276, Val Acc: 0.7694\n"
          ]
        },
        {
          "output_type": "stream",
          "name": "stderr",
          "text": [
            "Training: 100%|██████████| 296/296 [01:58<00:00,  2.50it/s]\n",
            "Validation: 100%|██████████| 123/123 [00:22<00:00,  5.35it/s]\n"
          ]
        },
        {
          "output_type": "stream",
          "name": "stdout",
          "text": [
            "Epoch 14, Train Loss: 0.9463, Train Acc: 0.6984, Val Loss: 0.7140, Val Acc: 0.7679\n"
          ]
        },
        {
          "output_type": "stream",
          "name": "stderr",
          "text": [
            "Training: 100%|██████████| 296/296 [01:58<00:00,  2.49it/s]\n",
            "Validation: 100%|██████████| 123/123 [00:22<00:00,  5.39it/s]\n"
          ]
        },
        {
          "output_type": "stream",
          "name": "stdout",
          "text": [
            "Epoch 15, Train Loss: 0.9153, Train Acc: 0.7102, Val Loss: 0.7565, Val Acc: 0.7501\n"
          ]
        },
        {
          "output_type": "stream",
          "name": "stderr",
          "text": [
            "Training: 100%|██████████| 296/296 [01:58<00:00,  2.50it/s]\n",
            "Validation: 100%|██████████| 123/123 [00:23<00:00,  5.31it/s]\n"
          ]
        },
        {
          "output_type": "stream",
          "name": "stdout",
          "text": [
            "Epoch 16, Train Loss: 0.9040, Train Acc: 0.7204, Val Loss: 0.7073, Val Acc: 0.7676\n"
          ]
        },
        {
          "output_type": "stream",
          "name": "stderr",
          "text": [
            "Training: 100%|██████████| 296/296 [01:58<00:00,  2.50it/s]\n",
            "Validation: 100%|██████████| 123/123 [00:23<00:00,  5.14it/s]\n"
          ]
        },
        {
          "output_type": "stream",
          "name": "stdout",
          "text": [
            "Epoch 17, Train Loss: 0.9195, Train Acc: 0.7108, Val Loss: 0.7108, Val Acc: 0.7753\n"
          ]
        },
        {
          "output_type": "stream",
          "name": "stderr",
          "text": [
            "Training: 100%|██████████| 296/296 [01:58<00:00,  2.50it/s]\n",
            "Validation: 100%|██████████| 123/123 [00:24<00:00,  5.11it/s]\n"
          ]
        },
        {
          "output_type": "stream",
          "name": "stdout",
          "text": [
            "Epoch 18, Train Loss: 0.8812, Train Acc: 0.7252, Val Loss: 0.6397, Val Acc: 0.7911\n"
          ]
        },
        {
          "output_type": "stream",
          "name": "stderr",
          "text": [
            "Training: 100%|██████████| 296/296 [01:58<00:00,  2.50it/s]\n",
            "Validation: 100%|██████████| 123/123 [00:24<00:00,  5.10it/s]\n"
          ]
        },
        {
          "output_type": "stream",
          "name": "stdout",
          "text": [
            "Epoch 19, Train Loss: 0.8920, Train Acc: 0.7252, Val Loss: 0.6966, Val Acc: 0.7817\n"
          ]
        },
        {
          "output_type": "stream",
          "name": "stderr",
          "text": [
            "Training: 100%|██████████| 296/296 [01:58<00:00,  2.50it/s]\n",
            "Validation: 100%|██████████| 123/123 [00:23<00:00,  5.21it/s]\n"
          ]
        },
        {
          "output_type": "stream",
          "name": "stdout",
          "text": [
            "Epoch 20, Train Loss: 0.8606, Train Acc: 0.7291, Val Loss: 0.6328, Val Acc: 0.8023\n"
          ]
        },
        {
          "output_type": "display_data",
          "data": {
            "text/plain": [
              "<Figure size 432x288 with 1 Axes>"
            ],
            "image/png": "[encoded data removed]"
          },
          "metadata": {
            "needs_background": "light"
          }
        },
        {
          "output_type": "display_data",
          "data": {
            "text/plain": [
              "<Figure size 432x288 with 1 Axes>"
            ],
            "image/png": "[encoded data removed]"
          },
          "metadata": {
            "needs_background": "light"
          }
        }
      ]
    },
    {
      "cell_type": "code",
      "source": [
        "def visualize_kernels(model):\n",
        "    # Get the weights of the first convolutional layer\n",
        "    # first_conv_layer = model.features[0]\n",
        "    kernels = model.conv1[0].weight.detach().cpu().numpy()\n",
        "\n",
        "    # Normalize the weights to be between 0 and 1\n",
        "    min_val = kernels.min()\n",
        "    max_val = kernels.max()\n",
        "    normalized_kernels = (kernels - min_val) / (max_val - min_val)\n",
        "\n",
        "    # Plot the kernels\n",
        "    num_kernels = normalized_kernels.shape[0]\n",
        "    num_columns = 8\n",
        "    num_rows = num_kernels // num_columns + int(num_kernels % num_columns > 0)\n",
        "    fig, axes = plt.subplots(num_rows, num_columns, figsize=(15, 15))\n",
        "\n",
        "    for i, ax in enumerate(axes.flat):\n",
        "        if i < num_kernels:\n",
        "            kernel_img = normalized_kernels[i, :, :, :].transpose(1, 2, 0)\n",
        "            ax.imshow(kernel_img)\n",
        "        ax.axis(\"off\")\n",
        "\n",
        "    plt.show()\n",
        "\n",
        "visualize_kernels(model)\n"
      ],
      "metadata": {
        "colab": {
          "base_uri": "https://localhost:8080/",
          "height": 808
        },
        "id": "K76XksCBNhGP",
        "outputId": "9a51bfac-2f1c-44a5-c451-61cf6957e653"
      },
      "execution_count": 27,
      "outputs": [
        {
          "output_type": "display_data",
          "data": {
            "text/plain": [
              "<Figure size 1080x1080 with 64 Axes>"
            ],
            "image/png": "[encoded data removed]"
          },
          "metadata": {
            "needs_background": "light"
          }
        }
      ]
    },
    {
      "cell_type": "code",
      "source": [
        " "
      ],
      "metadata": {
        "id": "r5V6qmy-SMmE"
      },
      "execution_count": null,
      "outputs": []
    },
    {
      "cell_type": "code",
      "source": [
        "# Get the weights of the first Conv2d layer in the conv5 block\n",
        "weights = model.conv1[0].weight.detach().cpu()"
      ],
      "metadata": {
        "id": "9J9QEFV7a71B"
      },
      "execution_count": 21,
      "outputs": []
    },
    {
      "cell_type": "code",
      "source": [
        "import matplotlib.pyplot as plt\n",
        "\n",
        "def plot_kernels(tensor, num_cols=8):\n",
        "    num_kernels = tensor.shape[0]\n",
        "    num_rows = 1 + num_kernels // num_cols\n",
        "    fig = plt.figure(figsize=(num_cols, num_rows))\n",
        "    \n",
        "    for i in range(num_kernels):\n",
        "        ax1 = fig.add_subplot(num_rows, num_cols, i + 1)\n",
        "        ax1.imshow(tensor[i][0], cmap='gray')  # Visualize the first channel of the kernel\n",
        "        ax1.axis('off')\n",
        "        ax1.set_xticklabels([])\n",
        "        ax1.set_yticklabels([])\n",
        "    \n",
        "    plt.subplots_adjust(wspace=0.1, hspace=0.1)\n",
        "    plt.show()\n"
      ],
      "metadata": {
        "id": "ZJNYApX-cGNj"
      },
      "execution_count": 22,
      "outputs": []
    },
    {
      "cell_type": "code",
      "source": [
        "weights = model.conv1[0].weight.detach().cpu()"
      ],
      "metadata": {
        "id": "attVSpjfd1MP"
      },
      "execution_count": 23,
      "outputs": []
    },
    {
      "cell_type": "code",
      "source": [
        "# Normalize the weights for visualization\n",
        "normalized_weights = (weights - weights.min()) / (weights.max() - weights.min())\n",
        "\n",
        "# Visualize the kernels of the first Conv2d layer in the conv5 block\n",
        "plot_kernels(normalized_weights)\n"
      ],
      "metadata": {
        "colab": {
          "base_uri": "https://localhost:8080/",
          "height": 465
        },
        "id": "FLRV52M7dKqi",
        "outputId": "b7859b86-3846-42b8-84c8-18a6a0463f63"
      },
      "execution_count": 24,
      "outputs": [
        {
          "output_type": "display_data",
          "data": {
            "text/plain": [
              "<Figure size 576x648 with 64 Axes>"
            ],
            "image/png": "[encoded data removed]"
          },
          "metadata": {
            "needs_background": "light"
          }
        }
      ]
    },
    {
      "cell_type": "code",
      "source": [
        "weights = model.conv5[0].weight.detach().cpu()\n",
        "\n",
        "# Normalize the weights for visualization\n",
        "normalized_weights = (weights - weights.min()) / (weights.max() - weights.min())\n",
        "\n",
        "# Visualize the kernels of the first Conv2d layer in the conv5 block\n",
        "plot_kernels(normalized_weights)\n"
      ],
      "metadata": {
        "colab": {
          "base_uri": "https://localhost:8080/",
          "height": 1000
        },
        "id": "N6p5H1vbdMxS",
        "outputId": "360f46e5-d751-4a18-f98c-91b0f6b9749c"
      },
      "execution_count": 25,
      "outputs": [
        {
          "output_type": "display_data",
          "data": {
            "text/plain": [
              "<Figure size 576x4680 with 512 Axes>"
            ],
            "image/png": "[encoded data removed]"
          },
          "metadata": {
            "needs_background": "light"
          }
        }
      ]
    },
    {
      "cell_type": "code",
      "source": [],
      "metadata": {
        "id": "peqZ-MHBd7hB"
      },
      "execution_count": null,
      "outputs": []
    }
  ]
}